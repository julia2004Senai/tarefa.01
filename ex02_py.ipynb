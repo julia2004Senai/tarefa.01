{
  "nbformat": 4,
  "nbformat_minor": 0,
  "metadata": {
    "colab": {
      "provenance": [],
      "authorship_tag": "ABX9TyPrv22nDZP4X8Lut+zZdsxc"
    },
    "kernelspec": {
      "name": "python3",
      "display_name": "Python 3"
    },
    "language_info": {
      "name": "python"
    }
  },
  "cells": [
    {
      "cell_type": "markdown",
      "source": [
        "EX.02"
      ],
      "metadata": {
        "id": "8dfCHnpaAGd2"
      }
    },
    {
      "cell_type": "code",
      "execution_count": null,
      "metadata": {
        "id": "s8bb6pV8_8fX"
      },
      "outputs": [],
      "source": [
        "nome = input(\"Digite o seu nome: \")\n",
        "endereco = input(\"Digite o seu endereço: \")\n",
        "cep = input(\"Digite o seu CEP: \")\n",
        "telefone = input(\"Digite o seu telefone: \")\n",
        "\n",
        "print(\"Nome:\", nome)\n",
        "print(\"Endereço:\", endereco)\n",
        "print(\"CEP e Telefone:\", cep, telefone)"
      ]
    }
  ]
}