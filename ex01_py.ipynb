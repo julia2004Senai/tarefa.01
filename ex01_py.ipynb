{
  "nbformat": 4,
  "nbformat_minor": 0,
  "metadata": {
    "colab": {
      "provenance": [],
      "authorship_tag": "ABX9TyMdTZdIswu5WEU9Nmd70+rl"
    },
    "kernelspec": {
      "name": "python3",
      "display_name": "Python 3"
    },
    "language_info": {
      "name": "python"
    }
  },
  "cells": [
    {
      "cell_type": "markdown",
      "source": [
        "EX.01"
      ],
      "metadata": {
        "id": "8dfCHnpaAGd2"
      }
    },
    {
      "cell_type": "code",
      "execution_count": null,
      "metadata": {
        "id": "s8bb6pV8_8fX"
      },
      "outputs": [],
      "source": [
        "n1 = float(input(\"Digite a primeira nota: \"))\n",
        "n2 = float(input(\"Digite a segunda nota: \"))\n",
        "n3 = float(input(\"Digite a terceira nota: \"))\n",
        "me = float(input(\"Digite a média dos exercícios: \"))\n",
        "\n",
        "ma = (n1 + n2*2 + n3*3 + me)/7\n",
        "\n",
        "if ma >= 9:\n",
        "    conceito = \"A\"\n",
        "elif ma >= 7.5:\n",
        "    conceito = \"B\"\n",
        "elif ma >= 6:\n",
        "    conceito = \"C\"\n",
        "elif ma >= 4:\n",
        "    conceito = \"D\"\n",
        "else:\n",
        "    conceito = \"E\"\n",
        "\n",
        "print(\"Média de aproveitamento: {:.2f}\".format(ma))\n",
        "print(\"Conceito:\", conceito)"
      ]
    }
  ]
}